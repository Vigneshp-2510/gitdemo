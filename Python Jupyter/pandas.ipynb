{
 "metadata": {
  "language_info": {
   "codemirror_mode": {
    "name": "ipython",
    "version": 3
   },
   "file_extension": ".py",
   "mimetype": "text/x-python",
   "name": "python",
   "nbconvert_exporter": "python",
   "pygments_lexer": "ipython3",
   "version": "3.7.9"
  },
  "orig_nbformat": 2,
  "kernelspec": {
   "name": "python379jvsc74a57bd02477ad58ea0fabfad8a9abd93eeb78f42da272d8f9bd878188fd1171b935f0f3",
   "display_name": "Python 3.7.9 64-bit"
  }
 },
 "nbformat": 4,
 "nbformat_minor": 2,
 "cells": [
  {
   "cell_type": "code",
   "execution_count": 1,
   "source": [
    "import pandas as pd\r\n",
    "s={\r\n",
    "    'car':['scorpio','BMW','audi'],\r\n",
    "    'rate':[25000,34555,67000]\r\n",
    "}\r\n",
    "a=pd.DataFrame(s)\r\n",
    "print(a)\r\n",
    "print(a)"
   ],
   "outputs": [
    {
     "output_type": "stream",
     "name": "stdout",
     "text": [
      "       car   rate\n",
      "0  scorpio  25000\n",
      "1      BMW  34555\n",
      "2     audi  67000\n"
     ]
    }
   ],
   "metadata": {}
  },
  {
   "cell_type": "code",
   "execution_count": 9,
   "source": [
    "import pandas as pd\r\n",
    "\r\n",
    "a = [1, 7, 2 ,4 ,5]\r\n",
    "\r\n",
    "myvar = pd.Series(a,index=['a','b','c','d','e'])\r\n",
    "\r\n",
    "print(myvar)\r\n"
   ],
   "outputs": [
    {
     "output_type": "stream",
     "name": "stdout",
     "text": [
      "a    1\n",
      "b    7\n",
      "c    2\n",
      "d    4\n",
      "e    5\n",
      "dtype: int64\n"
     ]
    }
   ],
   "metadata": {}
  },
  {
   "cell_type": "code",
   "execution_count": 10,
   "source": [
    "import pandas as pd\r\n",
    "\r\n",
    "data = {\r\n",
    "  \"calories\": [420, 380, 390],\r\n",
    "  \"duration\": [50, 40, 45]\r\n",
    "}\r\n",
    "\r\n",
    "#load data into a DataFrame object:\r\n",
    "df = pd.DataFrame(data)\r\n",
    "\r\n",
    "print(df) "
   ],
   "outputs": [
    {
     "output_type": "stream",
     "name": "stdout",
     "text": [
      "   calories  duration\n",
      "0       420        50\n",
      "1       380        40\n",
      "2       390        45\n"
     ]
    }
   ],
   "metadata": {}
  },
  {
   "cell_type": "code",
   "execution_count": 13,
   "source": [
    "print(df.loc[[0,1]])"
   ],
   "outputs": [
    {
     "output_type": "stream",
     "name": "stdout",
     "text": [
      "   calories  duration\n",
      "0       420        50\n",
      "1       380        40\n"
     ]
    }
   ],
   "metadata": {}
  },
  {
   "cell_type": "code",
   "execution_count": 4,
   "source": [
    "import pandas as pd\n",
    "\n",
    "df1 = pd.read_csv('C:\\check.csv')\n",
    "df1.replace(464,\"463\",inplace=True)\n",
    "print(df1)"
   ],
   "outputs": [
    {
     "output_type": "stream",
     "name": "stdout",
     "text": [
      "   student Id Course                  Session Ids       Lesson Ids  \\\n",
      "0           4    463  103,108,110,113,116,118,126  191,166,277,279   \n",
      "1           2    463  103,108,110,113,116,118,126  191,166,277,279   \n",
      "2           6    463  103,108,110,113,116,118,126  191,166,277,279   \n",
      "3           5    463  103,108,110,113,116,118,126  191,166,277,279   \n",
      "4           9    463  103,108,110,113,116,118,126  191,166,277,279   \n",
      "5           ,    463  103,108,110,113,116,118,126  191,166,277,279   \n",
      "6           6    463  103,108,110,113,116,118,126  191,166,277,279   \n",
      "7           8    463  103,108,110,113,116,118,126  191,166,277,279   \n",
      "8           6    463  103,108,110,113,116,118,126  191,166,277,279   \n",
      "9           7    463  103,108,110,113,116,118,126  191,166,277,279   \n",
      "10          6    463  103,108,110,113,116,118,126  191,166,277,279   \n",
      "\n",
      "   Lesson Display        Test Ids Good Score  \n",
      "0     l1,l2,l3,L4  8090,8122,8102   60,60,70  \n",
      "1     l1,l2,l3,L4  8090,8122,8102   60,60,70  \n",
      "2     l1,l2,l3,L4  8090,8122,8102   60,60,70  \n",
      "3     l1,l2,l3,L4  8090,8122,8102   60,60,70  \n",
      "4     l1,l2,l3,L4  8090,8122,8102   60,60,70  \n",
      "5     l1,l2,l3,L4  8090,8122,8102   60,60,70  \n",
      "6     l1,l2,l3,L4  8090,8122,8102   60,60,70  \n",
      "7     l1,l2,l3,L4  8090,8122,8102   60,60,70  \n",
      "8     l1,l2,l3,L4  8090,8122,8102   60,60,70  \n",
      "9     l1,l2,l3,L4  8090,8122,8102   60,60,70  \n",
      "10    l1,l2,l3,L4  8090,8122,8102   60,60,70  \n"
     ]
    }
   ],
   "metadata": {}
  },
  {
   "cell_type": "code",
   "execution_count": 18,
   "source": [
    "s=df1.head(2)\n",
    "print(s)"
   ],
   "outputs": [
    {
     "output_type": "stream",
     "name": "stdout",
     "text": [
      "  student Id  Course                  Session Ids       Lesson Ids  \\\n",
      "0          4     464  103,108,110,113,116,118,126  191,166,277,279   \n",
      "1          2     464  103,108,110,113,116,118,126  191,166,277,279   \n",
      "\n",
      "  Lesson Display        Test Ids Good Score  \n",
      "0    l1,l2,l3,L4  8090,8122,8102   60,60,70  \n",
      "1    l1,l2,l3,L4  8090,8122,8102   60,60,70  \n"
     ]
    }
   ],
   "metadata": {}
  },
  {
   "cell_type": "code",
   "execution_count": 19,
   "source": [
    "d=df1.info()\n",
    "print(d)"
   ],
   "outputs": [
    {
     "output_type": "stream",
     "name": "stdout",
     "text": [
      "<class 'pandas.core.frame.DataFrame'>\n",
      "RangeIndex: 11 entries, 0 to 10\n",
      "Data columns (total 7 columns):\n",
      " #   Column          Non-Null Count  Dtype \n",
      "---  ------          --------------  ----- \n",
      " 0   student Id      11 non-null     object\n",
      " 1   Course          11 non-null     int64 \n",
      " 2   Session Ids     11 non-null     object\n",
      " 3   Lesson Ids      11 non-null     object\n",
      " 4   Lesson Display  11 non-null     object\n",
      " 5   Test Ids        11 non-null     object\n",
      " 6   Good Score      11 non-null     object\n",
      "dtypes: int64(1), object(6)\n",
      "memory usage: 744.0+ bytes\n",
      "None\n"
     ]
    }
   ],
   "metadata": {}
  },
  {
   "cell_type": "code",
   "execution_count": null,
   "source": [
    "#remove empty cells-df.dropna()- returns new dataframe\n",
    "\n",
    "#df.dropna(inplace=True)-alters original dataframe\n",
    "\n",
    "#df.fillna(130,inplace=True) - fills empty cells with 130\n",
    "\n",
    "#df[\"Calories\"].fillna(130, inplace = True)- replaces null values with 130 for specifed column names\n",
    "\n",
    "#df['Date'] = pd.to_datetime(df['Date'])- convert date column to dateformat\n",
    "\n",
    "#df.dropna(subset=['Date'], inplace = True)- remove row from date column if it is null\n",
    "\n",
    "#df.loc[7,'Duration'] = 45 -replacing \n",
    "\n",
    "#df.duplicated()\n",
    "\n",
    "#df.drop_duplicates()\n",
    "\n",
    "#df.drop('C1',axis=1)-removing column\n",
    "\n",
    "#df.deop('R1',axis=0)- removing rows\n",
    "\n",
    "#df.reset_index()- creates indexex in the column named index\n",
    "\n",
    "#df.set_index('c3',inplace=True)-makes column 3 as index\n",
    "\n",
    "#df.dropna(axis=1,how=all)-remove all column if all the values in that column is null\n",
    "\n",
    "#df.replace(0.0,\"there was a value here\")\n",
    "\n",
    "#df['column'].value_counts()- specifies unique names with count of occurence\n",
    "\n",
    "#df['column'].unique()  - unique values\n",
    "\n",
    "#df['column'].nunique() - count of unique values\n",
    "\n",
    "#df.groupby('Team')\n",
    "\n",
    "#df[columnName].apply(customFunction)\n",
    "\n",
    "\n",
    "\n",
    "\n",
    "\n",
    "\n",
    "\n",
    "\n",
    "\n",
    "\n",
    "\n"
   ],
   "outputs": [],
   "metadata": {}
  }
 ]
}